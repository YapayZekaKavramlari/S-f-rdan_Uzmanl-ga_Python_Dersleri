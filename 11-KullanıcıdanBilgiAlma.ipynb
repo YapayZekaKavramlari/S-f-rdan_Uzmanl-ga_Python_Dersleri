{
 "cells": [
  {
   "cell_type": "code",
   "execution_count": null,
   "metadata": {},
   "outputs": [],
   "source": [
    "isim=input(\"Lütfen isim giriniz: \")\n",
    "yas=input(\"Lütfen yasinizi giriniz: \")\n",
    "print(\"Merhaba \"+isim+\" yasiniz: \"+yas)"
   ]
  },
  {
   "cell_type": "code",
   "execution_count": 7,
   "metadata": {},
   "outputs": [
    {
     "name": "stdout",
     "output_type": "stream",
     "text": [
      "70.2\n"
     ]
    }
   ],
   "source": [
    "sayi1=input(\"Lutfen 1. sayiyi giriniz: \")\n",
    "sayi2=input(\"Lutfen 2. sayiyi giriniz: \")\n",
    "sonuc=float(sayi1)+float(sayi2)\n",
    "print(sonuc)"
   ]
  }
 ],
 "metadata": {
  "kernelspec": {
   "display_name": "Python 3",
   "language": "python",
   "name": "python3"
  },
  "language_info": {
   "codemirror_mode": {
    "name": "ipython",
    "version": 3
   },
   "file_extension": ".py",
   "mimetype": "text/x-python",
   "name": "python",
   "nbconvert_exporter": "python",
   "pygments_lexer": "ipython3",
   "version": "3.12.1"
  }
 },
 "nbformat": 4,
 "nbformat_minor": 2
}
