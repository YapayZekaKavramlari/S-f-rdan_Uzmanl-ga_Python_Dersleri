{
 "cells": [
  {
   "cell_type": "code",
   "execution_count": 12,
   "metadata": {},
   "outputs": [
    {
     "name": "stdout",
     "output_type": "stream",
     "text": [
      "Tebrikler! Geçtiniz.\n"
     ]
    }
   ],
   "source": [
    "puan=int(input(\"Puan giriniz: \"))\n",
    "\n",
    "if puan>=50:\n",
    "    print(\"Tebrikler! Geçtiniz.\")\n",
    "else:\n",
    "    print(\"Maalesef! Kaldınız.\")"
   ]
  },
  {
   "cell_type": "code",
   "execution_count": 18,
   "metadata": {},
   "outputs": [
    {
     "name": "stdout",
     "output_type": "stream",
     "text": [
      "Hava Durumu Anlaşılamadı\n"
     ]
    }
   ],
   "source": [
    "hava_durumu = input(\"Hava Nasıl?\")\n",
    "\n",
    "if hava_durumu == \"Yağışlı\":\n",
    "    print(\"Şemsiyeni Almayı Unutma!\")\n",
    "elif hava_durumu == \"Karlı\":\n",
    "    print(\"Eldivenini Almayı Unutma!\")\n",
    "elif hava_durumu == \"Güneşli\":\n",
    "    print(\"Günün Tadını Çıkar :)\")\n",
    "else:\n",
    "    print(\"Hava Durumu Anlaşılamadı\")\n",
    "    "
   ]
  }
 ],
 "metadata": {
  "kernelspec": {
   "display_name": "Python 3",
   "language": "python",
   "name": "python3"
  },
  "language_info": {
   "codemirror_mode": {
    "name": "ipython",
    "version": 3
   },
   "file_extension": ".py",
   "mimetype": "text/x-python",
   "name": "python",
   "nbconvert_exporter": "python",
   "pygments_lexer": "ipython3",
   "version": "3.10.6"
  }
 },
 "nbformat": 4,
 "nbformat_minor": 2
}
